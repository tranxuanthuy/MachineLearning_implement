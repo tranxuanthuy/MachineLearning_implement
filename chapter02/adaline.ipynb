{
 "cells": [
  {
   "cell_type": "code",
   "execution_count": 7,
   "id": "ef8ea83c-8dd8-4b4c-9311-4c2844064902",
   "metadata": {},
   "outputs": [],
   "source": [
    "import numpy as np\n",
    "import pandas as pd\n",
    "import matplotlib.pyplot as plt"
   ]
  },
  {
   "cell_type": "code",
   "execution_count": 13,
   "id": "31eb9e5e-b953-43e4-b388-314f387ae823",
   "metadata": {},
   "outputs": [],
   "source": [
    "from adaline import AdalineSGD"
   ]
  },
  {
   "cell_type": "code",
   "execution_count": null,
   "id": "3de62c53-b2a3-4c30-b196-cb15af8fade2",
   "metadata": {},
   "outputs": [],
   "source": []
  },
  {
   "cell_type": "markdown",
   "id": "8c673fbb-ff26-4a88-9cc8-14770ba6271e",
   "metadata": {},
   "source": [
    "# load data and preprocessing"
   ]
  },
  {
   "cell_type": "code",
   "execution_count": 8,
   "id": "a2e9ef7c-211d-4d3b-be45-b9d9bca89527",
   "metadata": {},
   "outputs": [
    {
     "name": "stdout",
     "output_type": "stream",
     "text": [
      "(150, 5)\n"
     ]
    },
    {
     "data": {
      "text/html": [
       "<div>\n",
       "<style scoped>\n",
       "    .dataframe tbody tr th:only-of-type {\n",
       "        vertical-align: middle;\n",
       "    }\n",
       "\n",
       "    .dataframe tbody tr th {\n",
       "        vertical-align: top;\n",
       "    }\n",
       "\n",
       "    .dataframe thead th {\n",
       "        text-align: right;\n",
       "    }\n",
       "</style>\n",
       "<table border=\"1\" class=\"dataframe\">\n",
       "  <thead>\n",
       "    <tr style=\"text-align: right;\">\n",
       "      <th></th>\n",
       "      <th>0</th>\n",
       "      <th>1</th>\n",
       "      <th>2</th>\n",
       "      <th>3</th>\n",
       "      <th>4</th>\n",
       "    </tr>\n",
       "  </thead>\n",
       "  <tbody>\n",
       "    <tr>\n",
       "      <th>0</th>\n",
       "      <td>5.1</td>\n",
       "      <td>3.5</td>\n",
       "      <td>1.4</td>\n",
       "      <td>0.2</td>\n",
       "      <td>Iris-setosa</td>\n",
       "    </tr>\n",
       "    <tr>\n",
       "      <th>1</th>\n",
       "      <td>4.9</td>\n",
       "      <td>3.0</td>\n",
       "      <td>1.4</td>\n",
       "      <td>0.2</td>\n",
       "      <td>Iris-setosa</td>\n",
       "    </tr>\n",
       "    <tr>\n",
       "      <th>2</th>\n",
       "      <td>4.7</td>\n",
       "      <td>3.2</td>\n",
       "      <td>1.3</td>\n",
       "      <td>0.2</td>\n",
       "      <td>Iris-setosa</td>\n",
       "    </tr>\n",
       "    <tr>\n",
       "      <th>3</th>\n",
       "      <td>4.6</td>\n",
       "      <td>3.1</td>\n",
       "      <td>1.5</td>\n",
       "      <td>0.2</td>\n",
       "      <td>Iris-setosa</td>\n",
       "    </tr>\n",
       "    <tr>\n",
       "      <th>4</th>\n",
       "      <td>5.0</td>\n",
       "      <td>3.6</td>\n",
       "      <td>1.4</td>\n",
       "      <td>0.2</td>\n",
       "      <td>Iris-setosa</td>\n",
       "    </tr>\n",
       "  </tbody>\n",
       "</table>\n",
       "</div>"
      ],
      "text/plain": [
       "     0    1    2    3            4\n",
       "0  5.1  3.5  1.4  0.2  Iris-setosa\n",
       "1  4.9  3.0  1.4  0.2  Iris-setosa\n",
       "2  4.7  3.2  1.3  0.2  Iris-setosa\n",
       "3  4.6  3.1  1.5  0.2  Iris-setosa\n",
       "4  5.0  3.6  1.4  0.2  Iris-setosa"
      ]
     },
     "execution_count": 8,
     "metadata": {},
     "output_type": "execute_result"
    }
   ],
   "source": [
    "dataset_link = 'https://archive.ics.uci.edu/ml/machine-learning-databases/iris/iris.data'\n",
    "df = pd.read_csv(dataset_link,\n",
    "                header=None,\n",
    "                encoding='utf-8')\n",
    "print(df.shape)\n",
    "df.head()"
   ]
  },
  {
   "cell_type": "markdown",
   "id": "8ec1b585-cf1a-446d-972e-5aa16ee3de09",
   "metadata": {},
   "source": [
    "## feature selection"
   ]
  },
  {
   "cell_type": "code",
   "execution_count": 9,
   "id": "95f52486-d938-4089-af03-0d6096d893d5",
   "metadata": {},
   "outputs": [
    {
     "data": {
      "text/plain": [
       "((100, 2), (100,))"
      ]
     },
     "execution_count": 9,
     "metadata": {},
     "output_type": "execute_result"
    }
   ],
   "source": [
    "X = df.iloc[0:100, [0, 2]].values\n",
    "y = df.iloc[0:100, 4].values\n",
    "y = np.where(y == 'Iris-setosa', 0, 1)\n",
    "X.shape, y.shape"
   ]
  },
  {
   "cell_type": "markdown",
   "id": "988e5123-3756-41b7-8b0a-5d9da318deae",
   "metadata": {},
   "source": [
    "## feature scaling, normalization (use standardization)"
   ]
  },
  {
   "cell_type": "code",
   "execution_count": 143,
   "id": "a68086d0-cadd-499a-b1a4-26432efc4a07",
   "metadata": {},
   "outputs": [],
   "source": [
    "X_std = np.copy(X)\n",
    "X_std[:, 0] = (X[:, 0] - X[:, 0].mean()) / X[:, 0].std()\n",
    "X_std[:, 1] = (X[:, 1] - X[:, 1].mean()) / X[:, 1].std()"
   ]
  },
  {
   "cell_type": "markdown",
   "id": "3c1f5dff-665c-4d80-8012-54a42f122d45",
   "metadata": {},
   "source": [
    "# model"
   ]
  },
  {
   "cell_type": "code",
   "execution_count": 174,
   "id": "adaf0fe2-1dfa-432c-a175-c9b5e733ff17",
   "metadata": {},
   "outputs": [],
   "source": [
    "class AdalineSGD:\n",
    "\tdef __init__(self, eta=0.01, n_iter=20, random_state=1, shuffle=True, initilized_weight=False):\n",
    "\t\tself.eta = eta\n",
    "\t\tself.n_iter = n_iter\n",
    "\t\tself.random_state = random_state\n",
    "\t\tself.shuffle = shuffle\n",
    "\t\tself.initilized_weight = initilized_weight\n",
    "\tdef fit(self, X, y):\n",
    "\t\tself._initilize_weight(X.shape[1])\n",
    "\t\tself.losses_ = list()\n",
    "\t\tfor _ in range(self.n_iter):\n",
    "\t\t\tif self.shuffle:\n",
    "\t\t\t\tX, y = self._shuffle(X, y)\n",
    "\t\t\tlosses = list()\n",
    "\t\t\tfor xi, yi in zip(X, y):\n",
    "\t\t\t\tloss = self._update_weight(xi, yi)\n",
    "\t\t\t\tlosses.append(loss)\n",
    "\t\t\tself.losses_.append(np.mean(losses))\n",
    "\n",
    "\tdef partial_fit(self, X, y):\n",
    "\t\tif not self.initilized_weight:\n",
    "\t\t\tself._initilize_weight(X.shape[1])\n",
    "\t\tif y.ravel().shape[0] > 1:\n",
    "\t\t\tfor xi, yi in zip(X, y):\n",
    "\t\t\t\tself._update_weight(xi, yi)\n",
    "\t\telse:\n",
    "\t\t\tself._update_weight(X, y)\n",
    "\tdef _initilize_weight(self, d):\n",
    "\t\tself.rgen = np.random.RandomState(self.random_state)\n",
    "\t\tself.w_ = self.rgen.normal(loc=0.0, scale=0.01, size=d)\n",
    "\t\tself.b_ = np.float_(0.0)\n",
    "\t\tself.initilized_weight = True\n",
    "\tdef _shuffle(self, X, y):\n",
    "\t\tidx = self.rgen.permutation(y.shape[0])\n",
    "\t\treturn X[idx], y[idx]\n",
    "\tdef _update_weight(self, xi, yi):\n",
    "\t\tnet_input = self.net_input(xi)\n",
    "\t\tcalculated_output = self.activation(net_input)\n",
    "\t\terror = (yi - calculated_output)\n",
    "\t\tupdate = 2 * self.eta * error\n",
    "\t\tself.w_ += xi * update\n",
    "\t\tself.b_ += update\n",
    "\t\tloss = error ** 2\n",
    "\t\treturn loss\n",
    "\n",
    "\tdef predict(self, X):\n",
    "\t\tcalculated_output = self.activation(self.net_input(X))\n",
    "\t\treturn np.where(calculated_output >= 0.5, 1, 0)\n",
    "\tdef net_input(self, x):\n",
    "\t\treturn np.dot(x, self.w_) + self.b_\n",
    "\tdef activation(self, z):\n",
    "\t\treturn z"
   ]
  },
  {
   "cell_type": "markdown",
   "id": "d2906b22-7281-4b02-baf6-995b148fbb72",
   "metadata": {},
   "source": [
    "# Training"
   ]
  },
  {
   "cell_type": "markdown",
   "id": "dfd18fcf-92f9-49bc-8423-2003469bdc38",
   "metadata": {},
   "source": [
    "## without standardization technique"
   ]
  },
  {
   "cell_type": "code",
   "execution_count": 134,
   "id": "04e799eb-72ef-4acf-88a7-97c7704bd32c",
   "metadata": {},
   "outputs": [],
   "source": [
    "predictive_model = AdalineSGD(eta=0.01, n_iter=20, random_state=1, shuffle=True)"
   ]
  },
  {
   "cell_type": "code",
   "execution_count": 135,
   "id": "04af803f-8bb1-4e71-9570-87fd7e6b9ff4",
   "metadata": {},
   "outputs": [],
   "source": [
    "predictive_model.fit(X, y)"
   ]
  },
  {
   "cell_type": "markdown",
   "id": "a894f32f-6cf8-41e8-86d4-b77a67b6efdd",
   "metadata": {},
   "source": [
    "## with standardization "
   ]
  },
  {
   "cell_type": "code",
   "execution_count": 175,
   "id": "40f66bcf-abdf-43c0-b5c8-2c9c686150d9",
   "metadata": {},
   "outputs": [],
   "source": [
    "predictive_model_with_std_X = AdalineSGD(eta=0.01, n_iter=20, random_state=1, shuffle=True)\n",
    "predictive_model_with_std_X.fit(X_std, y)"
   ]
  },
  {
   "cell_type": "markdown",
   "id": "7ba649cd-bf9a-4019-9da7-a053f3406acb",
   "metadata": {},
   "source": [
    "## online learning, iteractive learning"
   ]
  },
  {
   "cell_type": "code",
   "execution_count": 176,
   "id": "11f89c82-d832-4475-a3ef-6fcfa9fdd07a",
   "metadata": {},
   "outputs": [],
   "source": [
    "idx = np.random.permutation(10)\n",
    "predictive_model_with_std_X.partial_fit(X[idx[0], :], y[idx[0]])"
   ]
  },
  {
   "cell_type": "code",
   "execution_count": 177,
   "id": "2466a221-8d9b-4cd6-966a-15328f002f1c",
   "metadata": {},
   "outputs": [],
   "source": [
    "idx = np.random.permutation(10)\n",
    "predictive_model_with_std_X.partial_fit(X[idx[0:5], :], y[idx[0:5]])"
   ]
  },
  {
   "cell_type": "markdown",
   "id": "9ab57c98-92f7-49fb-83e1-df7198a45628",
   "metadata": {},
   "source": [
    "# evaluation"
   ]
  },
  {
   "cell_type": "markdown",
   "id": "09308b50-b43a-4fef-883b-09cd22faa2cc",
   "metadata": {},
   "source": [
    "## classification accuracy"
   ]
  },
  {
   "cell_type": "code",
   "execution_count": 137,
   "id": "111880b0-040a-4eb0-92dd-73bfd973e908",
   "metadata": {},
   "outputs": [
    {
     "data": {
      "text/plain": [
       "1.0"
      ]
     },
     "execution_count": 137,
     "metadata": {},
     "output_type": "execute_result"
    }
   ],
   "source": [
    "(predictive_model.predict(X) == y).sum() / y.shape[0]"
   ]
  },
  {
   "cell_type": "markdown",
   "id": "0102ced6-1e78-446e-b742-f247195f4dbb",
   "metadata": {},
   "source": [
    "# visualization"
   ]
  },
  {
   "cell_type": "code",
   "execution_count": 138,
   "id": "55a709bf-e3fa-4d2c-9df0-a9603705f4ac",
   "metadata": {},
   "outputs": [],
   "source": [
    "from matplotlib.colors import ListedColormap\n",
    "def plot_desicion_boundary(X, y, classifier):\n",
    "    colors = ('red', 'blue', 'green', 'black')\n",
    "    cmap = ListedColormap(colors[0:len(np.unique(y))])\n",
    "    markers = ['o', 's', '^', '<']\n",
    "    resolution = 0.02\n",
    "    x1_min, x1_max = X[:, 0].min(), X[:, 0].max()\n",
    "    x2_min, x2_max = X[:, 1].min(), X[:, 1].max()\n",
    "    xx1, xx2 = np.meshgrid(np.arange(x1_min - 1, x1_max + 1, resolution),\n",
    "                            np.arange(x2_min - 1, x2_max + 1, resolution))\n",
    "    labels = classifier.predict(np.array([xx1.ravel(), xx2.ravel()]).T)\n",
    "    labels = labels.reshape(xx1.shape)\n",
    "    plt.contourf(xx1, xx2, labels, cmap=cmap, alpha=0.2)\n",
    "\n",
    "    for idx, class_ in enumerate(np.unique(y)):\n",
    "        plt.scatter(X[y == class_, 0], X[y == class_, 1], color = colors[idx],\n",
    "                    marker = markers[idx],\n",
    "                   edgecolor='black')"
   ]
  },
  {
   "cell_type": "code",
   "execution_count": 139,
   "id": "9bb6cb15-a30b-480e-bcc7-baed8598d9f7",
   "metadata": {},
   "outputs": [
    {
     "data": {
      "image/png": "[encoded data removed]",
      "text/plain": [
       "<Figure size 640x480 with 1 Axes>"
      ]
     },
     "metadata": {},
     "output_type": "display_data"
    }
   ],
   "source": [
    "plot_desicion_boundary(X, y, predictive_model)"
   ]
  },
  {
   "cell_type": "code",
   "execution_count": 158,
   "id": "527e7044-07aa-4b14-886f-fdd8ecb80328",
   "metadata": {},
   "outputs": [
    {
     "data": {
      "image/png": "[encoded data removed]",
      "text/plain": [
       "<Figure size 640x480 with 1 Axes>"
      ]
     },
     "metadata": {},
     "output_type": "display_data"
    }
   ],
   "source": [
    "plot_desicion_boundary(X_std, y, predictive_model_with_std_X)"
   ]
  },
  {
   "cell_type": "code",
   "execution_count": 140,
   "id": "7c424579-8c10-443f-bf21-a8f38b4dea9c",
   "metadata": {},
   "outputs": [
    {
     "data": {
      "text/plain": [
       "[<matplotlib.lines.Line2D at 0x28ac83f10a0>]"
      ]
     },
     "execution_count": 140,
     "metadata": {},
     "output_type": "execute_result"
    },
    {
     "data": {
      "image/png": "[encoded data removed]",
      "text/plain": [
       "<Figure size 640x480 with 1 Axes>"
      ]
     },
     "metadata": {},
     "output_type": "display_data"
    }
   ],
   "source": [
    "plt.plot(range(1, len(predictive_model.losses_) + 1), predictive_model.losses_, marker='o')"
   ]
  },
  {
   "cell_type": "code",
   "execution_count": 156,
   "id": "0835861f-519f-46ed-bba1-e435f8c330c3",
   "metadata": {},
   "outputs": [
    {
     "data": {
      "text/plain": [
       "[<matplotlib.lines.Line2D at 0x28acb69fdd0>]"
      ]
     },
     "execution_count": 156,
     "metadata": {},
     "output_type": "execute_result"
    },
    {
     "data": {
      "image/png": "[encoded data removed]",
      "text/plain": [
       "<Figure size 640x480 with 1 Axes>"
      ]
     },
     "metadata": {},
     "output_type": "display_data"
    }
   ],
   "source": [
    "plt.plot(range(1, len(predictive_model_with_std_X.losses_) + 1), predictive_model_with_std_X.losses_, marker='o')"
   ]
  },
  {
   "cell_type": "code",
   "execution_count": null,
   "id": "3a3539d3-3016-4f73-81d7-c7619ec3abed",
   "metadata": {},
   "outputs": [],
   "source": [
    "# nhận xét: feature scaling giúp quá trình gradient descent dễ dàng hơn, lựa chọn learning rate dễ dàng hơn, bởi vì nếu không scale lại thì \n",
    "# learning rate có thể phù hợp với feature này nhưng lại quá lớn, quá nhỏ so với features khác\n",
    "# khởi tạo trọng số không nên khởi tạo bằng 0\n",
    "# sử dụng activation là identity function thay vì unit step function giúp hàm loss trờ nên diferentiable"
   ]
  },
  {
   "cell_type": "code",
   "execution_count": null,
   "id": "8a871bf0-9771-4692-9b6f-3822dfe69320",
   "metadata": {},
   "outputs": [],
   "source": []
  }
 ],
 "metadata": {
  "kernelspec": {
   "display_name": "Python 3 (ipykernel)",
   "language": "python",
   "name": "python3"
  },
  "language_info": {
   "codemirror_mode": {
    "name": "ipython",
    "version": 3
   },
   "file_extension": ".py",
   "mimetype": "text/x-python",
   "name": "python",
   "nbconvert_exporter": "python",
   "pygments_lexer": "ipython3",
   "version": "3.12.2"
  }
 },
 "nbformat": 4,
 "nbformat_minor": 5
}
