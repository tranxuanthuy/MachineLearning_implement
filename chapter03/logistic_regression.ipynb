{
 "cells": [
  {
   "cell_type": "markdown",
   "id": "d198d2ad-c7b6-49d1-bfb5-23172b5633e3",
   "metadata": {},
   "source": [
    "# import thư viện"
   ]
  },
  {
   "cell_type": "code",
   "execution_count": 1,
   "id": "28801690-af80-4c7c-94fd-a10f81aca337",
   "metadata": {},
   "outputs": [],
   "source": [
    "import pandas as pd\n",
    "import numpy as np\n",
    "import matplotlib.pyplot as plt"
   ]
  },
  {
   "cell_type": "markdown",
   "id": "545c8543-7e9d-4ba7-a937-cd6eeb0a4761",
   "metadata": {},
   "source": [
    "# load dữ liệu"
   ]
  },
  {
   "cell_type": "code",
   "execution_count": 2,
   "id": "8f2d0d9d-bdbb-47a6-b1c0-10562c942b74",
   "metadata": {},
   "outputs": [],
   "source": [
    "from sklearn import datasets"
   ]
  },
  {
   "cell_type": "code",
   "execution_count": 3,
   "id": "bf66d8c3-b90d-412d-a28a-03644f93f7c7",
   "metadata": {},
   "outputs": [],
   "source": [
    "iris = datasets.load_iris()"
   ]
  },
  {
   "cell_type": "code",
   "execution_count": 6,
   "id": "de1e9154-b76d-4f3f-9598-36409c649c02",
   "metadata": {},
   "outputs": [],
   "source": [
    "X = iris.data\n",
    "y = iris.target"
   ]
  },
  {
   "cell_type": "code",
   "execution_count": 7,
   "id": "54bd5fd9-ca09-49f6-93e4-69df3619ae2f",
   "metadata": {},
   "outputs": [
    {
     "data": {
      "text/plain": [
       "((150, 4), (150,))"
      ]
     },
     "execution_count": 7,
     "metadata": {},
     "output_type": "execute_result"
    }
   ],
   "source": [
    "X.shape, y.shape"
   ]
  },
  {
   "cell_type": "code",
   "execution_count": 9,
   "id": "4b10c458-5df2-4826-a459-80b2b3dffa7c",
   "metadata": {},
   "outputs": [
    {
     "data": {
      "text/plain": [
       "array([0, 1, 2])"
      ]
     },
     "execution_count": 9,
     "metadata": {},
     "output_type": "execute_result"
    }
   ],
   "source": [
    "np.unique(y)"
   ]
  },
  {
   "cell_type": "markdown",
   "id": "18495ccb-aa9e-4538-a5b1-53339dbf253c",
   "metadata": {},
   "source": [
    "# features selection and data preprocessing (standardization scaling)"
   ]
  },
  {
   "cell_type": "markdown",
   "id": "1aa10532-e6a5-47d3-9e93-af546248d33e",
   "metadata": {},
   "source": [
    "## feature selection"
   ]
  },
  {
   "cell_type": "code",
   "execution_count": 23,
   "id": "9d358b11-42e5-4476-95a8-0cd679a544e2",
   "metadata": {},
   "outputs": [],
   "source": [
    "# lấy 2 lớp cho bài toán phân loại 2 lớp\n",
    "X = X[ (y == 0) | (y == 1) ]\n",
    "y = y[ (y == 0) | (y == 1) ]\n",
    "# lấy 2 features 2 và 3 để trực quan trên biểu đồ 2 chiều\n",
    "X = X[:, [2, 3]]"
   ]
  },
  {
   "cell_type": "code",
   "execution_count": 24,
   "id": "5cddf6e2-a3f6-4965-9de9-e61779f3d098",
   "metadata": {},
   "outputs": [
    {
     "data": {
      "text/plain": [
       "((100, 2), (100,))"
      ]
     },
     "execution_count": 24,
     "metadata": {},
     "output_type": "execute_result"
    }
   ],
   "source": [
    "X.shape, y.shape"
   ]
  },
  {
   "cell_type": "markdown",
   "id": "5cba5378-8b26-4aee-b611-1767808c7663",
   "metadata": {},
   "source": [
    "## train test split"
   ]
  },
  {
   "cell_type": "code",
   "execution_count": 25,
   "id": "2a1d1190-a855-426f-ba36-38af6e7b008e",
   "metadata": {},
   "outputs": [],
   "source": [
    "from sklearn.model_selection import train_test_split"
   ]
  },
  {
   "cell_type": "code",
   "execution_count": 26,
   "id": "2f621f24-6632-48d3-b218-35d41d32a112",
   "metadata": {},
   "outputs": [],
   "source": [
    "X_train, X_test, y_train, y_test = train_test_split(X, y,\n",
    "                                                    test_size=0.3,\n",
    "                                                   random_state=1,\n",
    "                                                   stratify=y)"
   ]
  },
  {
   "cell_type": "code",
   "execution_count": 27,
   "id": "7466c025-eb96-4845-a28f-7925f1871491",
   "metadata": {},
   "outputs": [
    {
     "data": {
      "text/plain": [
       "((70, 2), (70,), (30, 2), (30,))"
      ]
     },
     "execution_count": 27,
     "metadata": {},
     "output_type": "execute_result"
    }
   ],
   "source": [
    "X_train.shape, y_train.shape, X_test.shape, y_test.shape"
   ]
  },
  {
   "cell_type": "code",
   "execution_count": 29,
   "id": "f869a702-c339-4884-b3e6-01a6690c6a3d",
   "metadata": {},
   "outputs": [
    {
     "data": {
      "text/plain": [
       "('number per label in y, y_train, y_test',\n",
       " array([50, 50], dtype=int64),\n",
       " array([35, 35], dtype=int64),\n",
       " array([15, 15], dtype=int64))"
      ]
     },
     "execution_count": 29,
     "metadata": {},
     "output_type": "execute_result"
    }
   ],
   "source": [
    "'number per label in y, y_train, y_test', np.bincount(y), np.bincount(y_train), np.bincount(y_test)"
   ]
  },
  {
   "cell_type": "markdown",
   "id": "022dde55-afed-4640-9eb7-fdaf7b3cf180",
   "metadata": {},
   "source": [
    "## feature scaling"
   ]
  },
  {
   "cell_type": "code",
   "execution_count": 30,
   "id": "20997f76-a121-4a62-bce1-427786a58a4e",
   "metadata": {},
   "outputs": [],
   "source": [
    "from sklearn.preprocessing import StandardScaler"
   ]
  },
  {
   "cell_type": "code",
   "execution_count": 32,
   "id": "a480dc3f-d430-491f-bc8d-56e1bdc0714d",
   "metadata": {},
   "outputs": [],
   "source": [
    "sc = StandardScaler()\n",
    "sc.fit(X_train)\n",
    "X_train_std = sc.transform(X_train)\n",
    "X_test_std = sc.transform(X_test)"
   ]
  },
  {
   "cell_type": "code",
   "execution_count": 33,
   "id": "d8bdfb07-c87d-4ea8-9d66-d2e10db1b68d",
   "metadata": {},
   "outputs": [
    {
     "data": {
      "text/plain": [
       "(0.0038983374940011317, 0.9900261542677267)"
      ]
     },
     "execution_count": 33,
     "metadata": {},
     "output_type": "execute_result"
    }
   ],
   "source": [
    "X_test_std.mean(), X_test_std.std()"
   ]
  },
  {
   "cell_type": "markdown",
   "id": "50d75e98-4b33-452c-9b57-4a31ee3c7e5e",
   "metadata": {},
   "source": [
    "# define logistic regression object"
   ]
  },
  {
   "cell_type": "code",
   "execution_count": 65,
   "id": "f6c589a9-036e-4fa0-a331-013b1281b552",
   "metadata": {},
   "outputs": [],
   "source": [
    "class LogisticFBGD:\n",
    "    def __init__(self, eta=0.1, n_iter=20, random_state=1):\n",
    "        self.eta = eta\n",
    "        self.n_iter = n_iter\n",
    "        self.random_state = random_state\n",
    "    def fit(self, X, y):\n",
    "        self._initialize_weights(X.shape[1])\n",
    "        self.losses_ = list() \n",
    "        for _ in range(self.n_iter):\n",
    "            losses = self.update_weights(X, y)\n",
    "            avg_loss = losses.mean()\n",
    "            self.losses_.append(avg_loss)\n",
    "    def update_weights(self, X, y):\n",
    "        net_input = self.net_input(X)\n",
    "        caculated_output = self.activation(net_input)\n",
    "        errors = (y - caculated_output)\n",
    "        self.w_ += self.eta * X.T.dot(errors) / y.shape[0]\n",
    "        self.b_ += errors.mean()\n",
    "        losses = -y.dot(np.log(caculated_output)) - (1 - y).dot(np.log(1 - caculated_output))\n",
    "        return losses\n",
    "        \n",
    "    def _initialize_weights(self, d):\n",
    "        rgen = np.random.RandomState(self.random_state)\n",
    "        self.w_ = rgen.normal(loc=0.0, scale=0.01, size=d)\n",
    "        self.b_ = np.float_(0.0)\n",
    "        self.initialized_weights_ = True\n",
    "    def net_input(self, X):\n",
    "        return X.dot(self.w_) + self.b_\n",
    "    def activation(self, z):\n",
    "        return 1 / (1 + np.exp(np.clip(-z, -250, 250)))\n",
    "    def predict(self, X):\n",
    "        net_input = self.net_input(X)\n",
    "        caculated_output = self.activation(net_input)\n",
    "        return np.where(caculated_output >= 0.5, 1, 0)"
   ]
  },
  {
   "cell_type": "markdown",
   "id": "82eb5f7b-b917-45bb-8dea-212108d0c5e8",
   "metadata": {},
   "source": [
    "# training"
   ]
  },
  {
   "cell_type": "code",
   "execution_count": 66,
   "id": "b8ac34fa-4d86-472a-a54d-abc82c13d489",
   "metadata": {},
   "outputs": [],
   "source": [
    "logreg = LogisticFBGD()\n",
    "logreg.fit(X_train_std, y_train)"
   ]
  },
  {
   "cell_type": "markdown",
   "id": "2a05aaa5-de89-4573-baad-98180fea7fbf",
   "metadata": {},
   "source": [
    "# evaluate"
   ]
  },
  {
   "cell_type": "markdown",
   "id": "e608f2a1-62af-4148-af32-520f91228b39",
   "metadata": {},
   "source": [
    "## classification accuracy"
   ]
  },
  {
   "cell_type": "code",
   "execution_count": 67,
   "id": "e7b878a2-0fa5-452b-836f-d70773150aeb",
   "metadata": {},
   "outputs": [
    {
     "data": {
      "text/plain": [
       "1.0"
      ]
     },
     "execution_count": 67,
     "metadata": {},
     "output_type": "execute_result"
    }
   ],
   "source": [
    "(logreg.predict(X_test_std) == y_test).sum() / y_test.shape[0]"
   ]
  },
  {
   "cell_type": "markdown",
   "id": "7e565a49-dbff-40f8-b513-8665f7dd1d55",
   "metadata": {},
   "source": [
    "## error "
   ]
  },
  {
   "cell_type": "code",
   "execution_count": 68,
   "id": "8fe4cad3-14fe-4921-9101-bbf06e79c1a4",
   "metadata": {},
   "outputs": [
    {
     "data": {
      "text/plain": [
       "0.0"
      ]
     },
     "execution_count": 68,
     "metadata": {},
     "output_type": "execute_result"
    }
   ],
   "source": [
    "(logreg.predict(X_test_std) != y_test).sum() / y_test.shape[0]"
   ]
  },
  {
   "cell_type": "markdown",
   "id": "0fb28651-b876-4e73-bca9-98d6fd4146ee",
   "metadata": {},
   "source": [
    "## from sklearn metrics"
   ]
  },
  {
   "cell_type": "code",
   "execution_count": 69,
   "id": "2c5219a7-09d3-4ec1-9e8e-747841ec2a8b",
   "metadata": {},
   "outputs": [],
   "source": [
    "from sklearn.metrics import accuracy_score"
   ]
  },
  {
   "cell_type": "code",
   "execution_count": 70,
   "id": "050351b8-2f8f-4cb0-b31c-572aec7afd5c",
   "metadata": {},
   "outputs": [
    {
     "data": {
      "text/plain": [
       "1.0"
      ]
     },
     "execution_count": 70,
     "metadata": {},
     "output_type": "execute_result"
    }
   ],
   "source": [
    "y_predict = logreg.predict(X_test_std)\n",
    "accuracy_score(y_test, y_predict)"
   ]
  },
  {
   "cell_type": "markdown",
   "id": "67b23711-f974-4710-a1a0-20d60966aee4",
   "metadata": {},
   "source": [
    "# visualization"
   ]
  },
  {
   "cell_type": "code",
   "execution_count": 74,
   "id": "73bc15ea-3d0d-45c3-9cfd-5303d052740b",
   "metadata": {},
   "outputs": [
    {
     "data": {
      "text/plain": [
       "[<matplotlib.lines.Line2D at 0x197392d96a0>]"
      ]
     },
     "execution_count": 74,
     "metadata": {},
     "output_type": "execute_result"
    },
    {
     "data": {
      "image/png": "[encoded data removed]",
      "text/plain": [
       "<Figure size 640x480 with 1 Axes>"
      ]
     },
     "metadata": {},
     "output_type": "display_data"
    }
   ],
   "source": [
    "losses = logreg.losses_\n",
    "plt.plot(range(1, len(losses) + 1), losses, marker='o')"
   ]
  },
  {
   "cell_type": "code",
   "execution_count": 75,
   "id": "61bee002-54fd-49ea-b76a-e0bc8bcf0f84",
   "metadata": {},
   "outputs": [],
   "source": [
    "from matplotlib.colors import ListedColormap\n",
    "def plot_desicion_boundary(X, y, classifier, test_idx):\n",
    "    colors = ('red', 'blue', 'green', 'black')\n",
    "    cmap = ListedColormap(colors[0:len(np.unique(y))])\n",
    "    markers = ['o', 's', '^', '<']\n",
    "    resolution = 0.02\n",
    "    x1_min, x1_max = X[:, 0].min(), X[:, 0].max()\n",
    "    x2_min, x2_max = X[:, 1].min(), X[:, 1].max()\n",
    "    xx1, xx2 = np.meshgrid(np.arange(x1_min - 1, x1_max + 1, resolution),\n",
    "                            np.arange(x2_min - 1, x2_max + 1, resolution))\n",
    "    labels = classifier.predict(np.array([xx1.ravel(), xx2.ravel()]).T)\n",
    "    labels = labels.reshape(xx1.shape)\n",
    "    plt.contourf(xx1, xx2, labels, cmap=cmap, alpha=0.2)\n",
    "\n",
    "    for idx, class_ in enumerate(np.unique(y)):\n",
    "        plt.scatter(X[y == class_, 0], X[y == class_, 1], color = colors[idx],\n",
    "                    marker = markers[idx],\n",
    "                   edgecolor='black')\n",
    "    if test_idx:\n",
    "        plt.scatter(X[test_idx, 0], X[test_idx, 1],\n",
    "                    color='none',\n",
    "                    edgecolor='black',\n",
    "                    alpha=1.0,\n",
    "                    linewidth=1,\n",
    "                   marker='o',\n",
    "                    s=100,\n",
    "                    label='test set'\n",
    "                   )"
   ]
  },
  {
   "cell_type": "code",
   "execution_count": 84,
   "id": "3e17b10b-e723-4b91-acc1-35f7e80da9b6",
   "metadata": {},
   "outputs": [
    {
     "data": {
      "image/png": "[encoded data removed]",
      "text/plain": [
       "<Figure size 640x480 with 1 Axes>"
      ]
     },
     "metadata": {},
     "output_type": "display_data"
    }
   ],
   "source": [
    "X_combined = np.vstack((X_train_std, X_test_std))\n",
    "y_combined = np.hstack((y_train, y_test))\n",
    "plot_desicion_boundary(X_combined, y_combined, logreg, range(70, 100))"
   ]
  },
  {
   "cell_type": "markdown",
   "id": "ce74998f-4db6-47e0-ad9c-0323e5b596b6",
   "metadata": {},
   "source": [
    "# logistic regression with stochatics gradient descent"
   ]
  },
  {
   "cell_type": "code",
   "execution_count": 101,
   "id": "3792d791-9afd-4a2c-99a7-353c12b0aa7d",
   "metadata": {},
   "outputs": [],
   "source": [
    "class LogisticSGD:\n",
    "    def __init__(self, eta=0.1, n_iter=20, random_state=1):\n",
    "        self.eta = eta\n",
    "        self.n_iter = n_iter\n",
    "        self.random_state = random_state\n",
    "    def fit(self, X, y):\n",
    "        self._initialize_weights(X.shape[1])\n",
    "        self.losses_ = list() \n",
    "        for _ in range(self.n_iter):\n",
    "            losses = list()\n",
    "            for i in range(X.shape[0]):    \n",
    "                loss = self.update_weights(X, y)\n",
    "                losses.append(loss)\n",
    "            avg_loss = np.mean(losses)\n",
    "            self.losses_.append(avg_loss)\n",
    "    def update_weights(self, X, y):\n",
    "        net_input = self.net_input(X)\n",
    "        caculated_output = self.activation(net_input)\n",
    "        error = (y - caculated_output)\n",
    "        self.w_ += self.eta * X.T.dot(error)\n",
    "        self.b_ += self.eta * error\n",
    "        loss = -y.dot(np.log(caculated_output)) - (1 - y).dot(np.log(1 - caculated_output))\n",
    "        return loss\n",
    "        \n",
    "    def _initialize_weights(self, d):\n",
    "        rgen = np.random.RandomState(self.random_state)\n",
    "        self.w_ = rgen.normal(loc=0.0, scale=0.01, size=d)\n",
    "        self.b_ = np.float_(0.0)\n",
    "        self.initialized_weights_ = True\n",
    "    def net_input(self, X):\n",
    "        return X.dot(self.w_) + self.b_\n",
    "    def activation(self, z):\n",
    "        return 1 / (1 + np.exp(np.clip(-z, -250, 250)))\n",
    "    def predict(self, X):\n",
    "        net_input = self.net_input(X)\n",
    "        caculated_output = self.activation(net_input)\n",
    "        return np.where(caculated_output >= 0.5, 1, 0)"
   ]
  },
  {
   "cell_type": "code",
   "execution_count": 102,
   "id": "57d1ce6f-20a5-445e-97b8-b3bbd42cf34e",
   "metadata": {},
   "outputs": [],
   "source": [
    "logregSGD = LogisticSGD()"
   ]
  },
  {
   "cell_type": "code",
   "execution_count": 103,
   "id": "dba26413-4d35-42d1-9512-799c9cfc4ac4",
   "metadata": {},
   "outputs": [],
   "source": [
    "logregSGD.fit(X = X_train_std, y = y_train)"
   ]
  },
  {
   "cell_type": "code",
   "execution_count": 104,
   "id": "2b2ba4ab-4abf-4bcc-a40f-587d007deaa4",
   "metadata": {},
   "outputs": [
    {
     "ename": "ValueError",
     "evalue": "operands could not be broadcast together with shapes (30,) (70,) ",
     "output_type": "error",
     "traceback": [
      "\u001b[1;31m---------------------------------------------------------------------------\u001b[0m",
      "\u001b[1;31mValueError\u001b[0m                                Traceback (most recent call last)",
      "Cell \u001b[1;32mIn[104], line 1\u001b[0m\n\u001b[1;32m----> 1\u001b[0m y_predict \u001b[38;5;241m=\u001b[39m \u001b[43mlogregSGD\u001b[49m\u001b[38;5;241;43m.\u001b[39;49m\u001b[43mpredict\u001b[49m\u001b[43m(\u001b[49m\u001b[43mX_test_std\u001b[49m\u001b[43m)\u001b[49m\n",
      "Cell \u001b[1;32mIn[101], line 35\u001b[0m, in \u001b[0;36mLogisticSGD.predict\u001b[1;34m(self, X)\u001b[0m\n\u001b[0;32m     34\u001b[0m \u001b[38;5;28;01mdef\u001b[39;00m \u001b[38;5;21mpredict\u001b[39m(\u001b[38;5;28mself\u001b[39m, X):\n\u001b[1;32m---> 35\u001b[0m     net_input \u001b[38;5;241m=\u001b[39m \u001b[38;5;28;43mself\u001b[39;49m\u001b[38;5;241;43m.\u001b[39;49m\u001b[43mnet_input\u001b[49m\u001b[43m(\u001b[49m\u001b[43mX\u001b[49m\u001b[43m)\u001b[49m\n\u001b[0;32m     36\u001b[0m     caculated_output \u001b[38;5;241m=\u001b[39m \u001b[38;5;28mself\u001b[39m\u001b[38;5;241m.\u001b[39mactivation(net_input)\n\u001b[0;32m     37\u001b[0m     \u001b[38;5;28;01mreturn\u001b[39;00m np\u001b[38;5;241m.\u001b[39mwhere(caculated_output \u001b[38;5;241m>\u001b[39m\u001b[38;5;241m=\u001b[39m \u001b[38;5;241m0.5\u001b[39m, \u001b[38;5;241m1\u001b[39m, \u001b[38;5;241m0\u001b[39m)\n",
      "Cell \u001b[1;32mIn[101], line 31\u001b[0m, in \u001b[0;36mLogisticSGD.net_input\u001b[1;34m(self, X)\u001b[0m\n\u001b[0;32m     30\u001b[0m \u001b[38;5;28;01mdef\u001b[39;00m \u001b[38;5;21mnet_input\u001b[39m(\u001b[38;5;28mself\u001b[39m, X):\n\u001b[1;32m---> 31\u001b[0m     \u001b[38;5;28;01mreturn\u001b[39;00m \u001b[43mX\u001b[49m\u001b[38;5;241;43m.\u001b[39;49m\u001b[43mdot\u001b[49m\u001b[43m(\u001b[49m\u001b[38;5;28;43mself\u001b[39;49m\u001b[38;5;241;43m.\u001b[39;49m\u001b[43mw_\u001b[49m\u001b[43m)\u001b[49m\u001b[43m \u001b[49m\u001b[38;5;241;43m+\u001b[39;49m\u001b[43m \u001b[49m\u001b[38;5;28;43mself\u001b[39;49m\u001b[38;5;241;43m.\u001b[39;49m\u001b[43mb_\u001b[49m\n",
      "\u001b[1;31mValueError\u001b[0m: operands could not be broadcast together with shapes (30,) (70,) "
     ]
    }
   ],
   "source": [
    "y_predict = logregSGD.predict(X_test_std)"
   ]
  },
  {
   "cell_type": "code",
   "execution_count": 107,
   "id": "ad7b9738-a3ee-4327-99eb-256ff88c0ca0",
   "metadata": {},
   "outputs": [
    {
     "data": {
      "text/plain": [
       "(array([6.30588264, 6.01000015]), (70,))"
      ]
     },
     "execution_count": 107,
     "metadata": {},
     "output_type": "execute_result"
    }
   ],
   "source": [
    "logregSGD.w_, logregSGD.b_.shape"
   ]
  },
  {
   "cell_type": "code",
   "execution_count": null,
   "id": "450a0afb-590b-4cde-af0b-e0be50aabd42",
   "metadata": {},
   "outputs": [],
   "source": []
  }
 ],
 "metadata": {
  "kernelspec": {
   "display_name": "Python 3 (ipykernel)",
   "language": "python",
   "name": "python3"
  },
  "language_info": {
   "codemirror_mode": {
    "name": "ipython",
    "version": 3
   },
   "file_extension": ".py",
   "mimetype": "text/x-python",
   "name": "python",
   "nbconvert_exporter": "python",
   "pygments_lexer": "ipython3",
   "version": "3.12.2"
  }
 },
 "nbformat": 4,
 "nbformat_minor": 5
}
