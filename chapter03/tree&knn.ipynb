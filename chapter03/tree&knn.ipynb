{
 "cells": [
  {
   "cell_type": "markdown",
   "id": "af08fb55-70fb-4fa2-aba9-6675e3b8acec",
   "metadata": {},
   "source": [
    "## load du lieu"
   ]
  },
  {
   "cell_type": "code",
   "execution_count": 4,
   "id": "c889f95f-ec83-4426-b29d-3f552089c637",
   "metadata": {},
   "outputs": [],
   "source": [
    "from sklearn import datasets\n",
    "import pandas as pd\n",
    "import numpy as np"
   ]
  },
  {
   "cell_type": "code",
   "execution_count": 13,
   "id": "6bb8f72f-8272-43d9-9200-779fb8740d00",
   "metadata": {},
   "outputs": [],
   "source": [
    "iris = datasets.load_iris()\n",
    "X = iris['data']\n",
    "y = iris['target']"
   ]
  },
  {
   "cell_type": "markdown",
   "id": "7e40a005-1ee7-4e45-bd66-ee5f165e968d",
   "metadata": {},
   "source": [
    "## data selecting"
   ]
  },
  {
   "cell_type": "code",
   "execution_count": 16,
   "id": "d7dba6fd-79c3-49c3-9384-0146b80514bd",
   "metadata": {},
   "outputs": [],
   "source": [
    "# lua chon 2 features de de truc quan tren khong gian 2 chieu\n",
    "X = X[: , [0, 2]]"
   ]
  },
  {
   "cell_type": "markdown",
   "id": "67ecf8a6-5bec-4b29-8265-fb01b8fef6d7",
   "metadata": {},
   "source": [
    "## train test split"
   ]
  },
  {
   "cell_type": "code",
   "execution_count": 21,
   "id": "7359e273-2c4e-4b77-9876-a3f9b4791ce4",
   "metadata": {},
   "outputs": [],
   "source": [
    "from sklearn.model_selection import train_test_split"
   ]
  },
  {
   "cell_type": "code",
   "execution_count": 22,
   "id": "7e7be6c6-5dea-427f-b9eb-d90bb186e037",
   "metadata": {},
   "outputs": [],
   "source": [
    "X_train, X_test, y_train, y_test = train_test_split(X, y,\n",
    "                                                    test_size=0.3,\n",
    "                                                    stratify=y)"
   ]
  },
  {
   "cell_type": "code",
   "execution_count": 23,
   "id": "bc6c9fa8-71df-4baa-aedf-80766e703c0d",
   "metadata": {},
   "outputs": [
    {
     "data": {
      "text/plain": [
       "array([50, 50, 50], dtype=int64)"
      ]
     },
     "execution_count": 23,
     "metadata": {},
     "output_type": "execute_result"
    }
   ],
   "source": [
    "np.bincount(y)"
   ]
  },
  {
   "cell_type": "code",
   "execution_count": 24,
   "id": "5996fbbf-8f65-45ce-a783-330c1faf9d61",
   "metadata": {},
   "outputs": [
    {
     "data": {
      "text/plain": [
       "(array([35, 35, 35], dtype=int64), array([15, 15, 15], dtype=int64))"
      ]
     },
     "execution_count": 24,
     "metadata": {},
     "output_type": "execute_result"
    }
   ],
   "source": [
    "np.bincount(y_train), np.bincount(y_test)"
   ]
  },
  {
   "cell_type": "markdown",
   "id": "0fb80be4-c953-43e7-a19d-6375033f9039",
   "metadata": {},
   "source": [
    "## EDA"
   ]
  },
  {
   "cell_type": "markdown",
   "id": "fdfe39d5-9f9c-47b9-88eb-88a137607a1e",
   "metadata": {},
   "source": [
    "### shape"
   ]
  },
  {
   "cell_type": "code",
   "execution_count": 28,
   "id": "fcbf973c-91d1-4c85-bc59-58b3139f6a72",
   "metadata": {},
   "outputs": [
    {
     "data": {
      "text/plain": [
       "(105, 2)"
      ]
     },
     "execution_count": 28,
     "metadata": {},
     "output_type": "execute_result"
    }
   ],
   "source": [
    "X_train.shape"
   ]
  },
  {
   "cell_type": "markdown",
   "id": "79f4b615-31ba-4b22-b48e-1570d180a026",
   "metadata": {},
   "source": [
    "### peak to peak, ptp\n",
    "khoang gia tri, max - min"
   ]
  },
  {
   "cell_type": "code",
   "execution_count": 46,
   "id": "219e0a4b-489a-4bb0-8ca4-e902511829e4",
   "metadata": {},
   "outputs": [
    {
     "data": {
      "text/plain": [
       "array([3.6, 5.9])"
      ]
     },
     "execution_count": 46,
     "metadata": {},
     "output_type": "execute_result"
    }
   ],
   "source": [
    "np.ptp(X, axis=0, keepdims=False)"
   ]
  },
  {
   "cell_type": "code",
   "execution_count": 48,
   "id": "8a591dd9-0fcf-45f2-9730-fd71c3a2e8d4",
   "metadata": {
    "scrolled": true
   },
   "outputs": [
    {
     "data": {
      "text/plain": [
       "array([[3.7],\n",
       "       [3.5],\n",
       "       [3.4],\n",
       "       [3.1],\n",
       "       [3.6],\n",
       "       [3.7],\n",
       "       [3.2],\n",
       "       [3.5],\n",
       "       [3. ],\n",
       "       [3.4],\n",
       "       [3.9],\n",
       "       [3.2],\n",
       "       [3.4],\n",
       "       [3.2],\n",
       "       [4.6],\n",
       "       [4.2],\n",
       "       [4.1],\n",
       "       [3.7],\n",
       "       [4. ],\n",
       "       [3.6],\n",
       "       [3.7],\n",
       "       [3.6],\n",
       "       [3.6],\n",
       "       [3.4],\n",
       "       [2.9],\n",
       "       [3.4],\n",
       "       [3.4],\n",
       "       [3.7],\n",
       "       [3.8],\n",
       "       [3.1],\n",
       "       [3.2],\n",
       "       [3.9],\n",
       "       [3.7],\n",
       "       [4.1],\n",
       "       [3.4],\n",
       "       [3.8],\n",
       "       [4.2],\n",
       "       [3.5],\n",
       "       [3.1],\n",
       "       [3.6],\n",
       "       [3.7],\n",
       "       [3.2],\n",
       "       [3.1],\n",
       "       [3.4],\n",
       "       [3.2],\n",
       "       [3.4],\n",
       "       [3.5],\n",
       "       [3.2],\n",
       "       [3.8],\n",
       "       [3.6],\n",
       "       [2.3],\n",
       "       [1.9],\n",
       "       [2. ],\n",
       "       [1.5],\n",
       "       [1.9],\n",
       "       [1.2],\n",
       "       [1.6],\n",
       "       [1.6],\n",
       "       [2. ],\n",
       "       [1.3],\n",
       "       [1.5],\n",
       "       [1.7],\n",
       "       [2. ],\n",
       "       [1.4],\n",
       "       [2. ],\n",
       "       [2.3],\n",
       "       [1.1],\n",
       "       [1.7],\n",
       "       [1.7],\n",
       "       [1.7],\n",
       "       [1.1],\n",
       "       [2.1],\n",
       "       [1.4],\n",
       "       [1.4],\n",
       "       [2.1],\n",
       "       [2.2],\n",
       "       [2. ],\n",
       "       [1.7],\n",
       "       [1.5],\n",
       "       [2.2],\n",
       "       [1.7],\n",
       "       [1.8],\n",
       "       [1.9],\n",
       "       [0.9],\n",
       "       [0.9],\n",
       "       [1.5],\n",
       "       [2. ],\n",
       "       [1.9],\n",
       "       [1.5],\n",
       "       [1.5],\n",
       "       [1.1],\n",
       "       [1.5],\n",
       "       [1.8],\n",
       "       [1.7],\n",
       "       [1.4],\n",
       "       [1.5],\n",
       "       [1.5],\n",
       "       [1.9],\n",
       "       [2.1],\n",
       "       [1.6],\n",
       "       [0.3],\n",
       "       [0.7],\n",
       "       [1.2],\n",
       "       [0.7],\n",
       "       [0.7],\n",
       "       [1. ],\n",
       "       [0.4],\n",
       "       [1. ],\n",
       "       [0.9],\n",
       "       [1.1],\n",
       "       [1.4],\n",
       "       [1.1],\n",
       "       [1.3],\n",
       "       [0.7],\n",
       "       [0.7],\n",
       "       [1.1],\n",
       "       [1. ],\n",
       "       [1. ],\n",
       "       [0.8],\n",
       "       [1. ],\n",
       "       [1.2],\n",
       "       [0.7],\n",
       "       [1. ],\n",
       "       [1.4],\n",
       "       [1. ],\n",
       "       [1.2],\n",
       "       [1.4],\n",
       "       [1.2],\n",
       "       [0.8],\n",
       "       [1.4],\n",
       "       [1.3],\n",
       "       [1.5],\n",
       "       [0.8],\n",
       "       [1.2],\n",
       "       [0.5],\n",
       "       [1.6],\n",
       "       [0.7],\n",
       "       [0.9],\n",
       "       [1.2],\n",
       "       [1.5],\n",
       "       [1.1],\n",
       "       [1.8],\n",
       "       [0.7],\n",
       "       [0.9],\n",
       "       [1. ],\n",
       "       [1.5],\n",
       "       [1.3],\n",
       "       [1.3],\n",
       "       [0.8],\n",
       "       [0.8]])"
      ]
     },
     "execution_count": 48,
     "metadata": {},
     "output_type": "execute_result"
    }
   ],
   "source": [
    "np.ptp(X, axis=1, keepdims=True)"
   ]
  },
  {
   "cell_type": "code",
   "execution_count": 49,
   "id": "2559ac35-34e6-41fb-8cbe-8ed858cc9424",
   "metadata": {},
   "outputs": [
    {
     "data": {
      "text/plain": [
       "6.9"
      ]
     },
     "execution_count": 49,
     "metadata": {},
     "output_type": "execute_result"
    }
   ],
   "source": [
    "np.ptp(X)"
   ]
  },
  {
   "cell_type": "markdown",
   "id": "cd608db5-a8ba-446f-bf89-e68ae9f01b19",
   "metadata": {},
   "source": [
    "### percentile"
   ]
  },
  {
   "cell_type": "code",
   "execution_count": 54,
   "id": "1e13e7d9-7429-433f-b768-ae5b1eac600d",
   "metadata": {},
   "outputs": [
    {
     "data": {
      "text/plain": [
       "array([[5.1 , 1.6 ],\n",
       "       [5.8 , 4.35],\n",
       "       [6.4 , 5.1 ]])"
      ]
     },
     "execution_count": 54,
     "metadata": {},
     "output_type": "execute_result"
    }
   ],
   "source": [
    "np.percentile(X, [25, 50, 75], axis=0, keepdims=False)"
   ]
  },
  {
   "cell_type": "code",
   "execution_count": 55,
   "id": "1d330873-fb8f-41f0-890c-51fc22609a1f",
   "metadata": {},
   "outputs": [
    {
     "data": {
      "text/plain": [
       "array([5.8 , 4.35])"
      ]
     },
     "execution_count": 55,
     "metadata": {},
     "output_type": "execute_result"
    }
   ],
   "source": [
    "np.median(X, axis=0)"
   ]
  },
  {
   "cell_type": "code",
   "execution_count": 56,
   "id": "e679d3a9-fd64-4add-b3fb-dbc59c2fa1d3",
   "metadata": {},
   "outputs": [
    {
     "data": {
      "text/plain": [
       "array([[5.1 , 1.6 ],\n",
       "       [5.8 , 4.35],\n",
       "       [6.4 , 5.1 ]])"
      ]
     },
     "execution_count": 56,
     "metadata": {},
     "output_type": "execute_result"
    }
   ],
   "source": [
    "np.nanpercentile(X, [25, 50, 75], axis=0, keepdims=False)"
   ]
  },
  {
   "cell_type": "markdown",
   "id": "3afbc576-66da-4768-b9de-5c1a4faa8b72",
   "metadata": {},
   "source": [
    "## quantile"
   ]
  },
  {
   "cell_type": "code",
   "execution_count": 57,
   "id": "cdc9bf15-3021-4580-9a7d-e666e189295a",
   "metadata": {},
   "outputs": [
    {
     "data": {
      "text/plain": [
       "array([[5.1 , 1.6 ],\n",
       "       [5.8 , 4.35],\n",
       "       [6.4 , 5.1 ]])"
      ]
     },
     "execution_count": 57,
     "metadata": {},
     "output_type": "execute_result"
    }
   ],
   "source": [
    "np.quantile(X, [0.25, 0.5, 0.75], axis=0, keepdims=False)"
   ]
  },
  {
   "cell_type": "code",
   "execution_count": null,
   "id": "ed5a0342-a6a3-49db-b98c-9f3b3cba1560",
   "metadata": {},
   "outputs": [],
   "source": []
  },
  {
   "cell_type": "code",
   "execution_count": null,
   "id": "b4e4b7b7-e386-479e-8ecd-a7e53c73db62",
   "metadata": {},
   "outputs": [],
   "source": []
  },
  {
   "cell_type": "markdown",
   "id": "7a515b81-40d0-414f-a7e0-d264e5783fff",
   "metadata": {},
   "source": [
    "# visualization"
   ]
  },
  {
   "cell_type": "code",
   "execution_count": 25,
   "id": "d8d415b5-0bc0-43c3-8cb0-b839c9db6b8d",
   "metadata": {},
   "outputs": [],
   "source": [
    "import matplotlib.pyplot as plt\n",
    "%matplotlib inline"
   ]
  },
  {
   "cell_type": "code",
   "execution_count": null,
   "id": "592f5717-548a-4b7e-9c6c-4da81500e7d7",
   "metadata": {},
   "outputs": [],
   "source": []
  }
 ],
 "metadata": {
  "kernelspec": {
   "display_name": "Python 3 (ipykernel)",
   "language": "python",
   "name": "python3"
  },
  "language_info": {
   "codemirror_mode": {
    "name": "ipython",
    "version": 3
   },
   "file_extension": ".py",
   "mimetype": "text/x-python",
   "name": "python",
   "nbconvert_exporter": "python",
   "pygments_lexer": "ipython3",
   "version": "3.12.2"
  }
 },
 "nbformat": 4,
 "nbformat_minor": 5
}
