{
 "cells": [
  {
   "cell_type": "markdown",
   "id": "7abc370e-3f99-41bf-a756-1c98c40cad98",
   "metadata": {},
   "source": [
    "# data"
   ]
  },
  {
   "cell_type": "code",
   "execution_count": 16,
   "id": "f5f48912-a8bb-48b3-add5-1238e4a9f404",
   "metadata": {},
   "outputs": [],
   "source": [
    "import pandas as pd\n",
    "import numpy as np"
   ]
  },
  {
   "cell_type": "code",
   "execution_count": 3,
   "id": "e4de70c0-a218-461b-9a11-99a8d362ab64",
   "metadata": {},
   "outputs": [],
   "source": [
    "df = pd.read_csv('https://archive.ics.uci.edu/ml/machine-learning-databases/breast-cancer-wisconsin/wdbc.data',\n",
    "                header=None)"
   ]
  },
  {
   "cell_type": "code",
   "execution_count": 5,
   "id": "55b89741-516d-4fc5-ba71-c7f8c3629be5",
   "metadata": {},
   "outputs": [],
   "source": [
    "X = df.iloc[:, 2:].values\n",
    "y = df.iloc[:, 1].values"
   ]
  },
  {
   "cell_type": "markdown",
   "id": "498d75af-e39f-4d9f-bfbf-5117b6c1415e",
   "metadata": {},
   "source": [
    "**encode label**"
   ]
  },
  {
   "cell_type": "code",
   "execution_count": 6,
   "id": "06755937-030f-4599-9751-f28dab0a0032",
   "metadata": {},
   "outputs": [],
   "source": [
    "from sklearn.preprocessing import LabelEncoder"
   ]
  },
  {
   "cell_type": "code",
   "execution_count": 8,
   "id": "e6faa283-36ac-4caf-8cbd-2f1d05e8ac6f",
   "metadata": {},
   "outputs": [],
   "source": [
    "le = LabelEncoder()\n",
    "y = le.fit_transform(y)"
   ]
  },
  {
   "cell_type": "code",
   "execution_count": 11,
   "id": "dbc5609b-2aba-4181-8a24-e4795d65de11",
   "metadata": {},
   "outputs": [
    {
     "data": {
      "text/plain": [
       "array([1, 0])"
      ]
     },
     "execution_count": 11,
     "metadata": {},
     "output_type": "execute_result"
    }
   ],
   "source": [
    "le.transform(['M', 'B'])"
   ]
  },
  {
   "cell_type": "code",
   "execution_count": 12,
   "id": "562f9541-c3e6-4145-a000-2cb170ac1a05",
   "metadata": {},
   "outputs": [
    {
     "data": {
      "text/plain": [
       "(569, 30)"
      ]
     },
     "execution_count": 12,
     "metadata": {},
     "output_type": "execute_result"
    }
   ],
   "source": [
    "X.shape"
   ]
  },
  {
   "cell_type": "code",
   "execution_count": 19,
   "id": "96165d6c-ca73-4667-9444-7d0beff99870",
   "metadata": {},
   "outputs": [
    {
     "data": {
      "text/plain": [
       "0"
      ]
     },
     "execution_count": 19,
     "metadata": {},
     "output_type": "execute_result"
    }
   ],
   "source": [
    "(X == np.nan).sum()"
   ]
  },
  {
   "cell_type": "markdown",
   "id": "362e325a-f1ab-4a94-aa8e-263f9dcf0d29",
   "metadata": {},
   "source": [
    "**train test split**"
   ]
  },
  {
   "cell_type": "code",
   "execution_count": 22,
   "id": "3a5d9b31-2d75-4700-8d04-2029bce8cad1",
   "metadata": {},
   "outputs": [],
   "source": [
    "from sklearn.model_selection import train_test_split"
   ]
  },
  {
   "cell_type": "code",
   "execution_count": 23,
   "id": "245d9464-9e0b-4b11-8e2d-f0464a16a869",
   "metadata": {},
   "outputs": [],
   "source": [
    "X_train, X_test, y_train, y_test = \\\n",
    "train_test_split(X, y, test_size=.3, stratify=y, random_state=1)"
   ]
  },
  {
   "cell_type": "markdown",
   "id": "200099aa-ad9c-4d9b-b957-68cd5356fe59",
   "metadata": {},
   "source": [
    "# model"
   ]
  },
  {
   "cell_type": "code",
   "execution_count": 20,
   "id": "8cf7ace8-baf8-44d2-b581-bca45d5a967c",
   "metadata": {},
   "outputs": [],
   "source": [
    "from sklearn.preprocessing import StandardScaler\n",
    "from sklearn.decomposition import PCA\n",
    "from sklearn.linear_model import LogisticRegression"
   ]
  },
  {
   "cell_type": "markdown",
   "id": "6464d054-9b84-4a76-a4fe-285b815de7e6",
   "metadata": {},
   "source": [
    "**pipeline**"
   ]
  },
  {
   "cell_type": "code",
   "execution_count": 25,
   "id": "4609e466-8eea-4a95-afe4-72ae41ad783c",
   "metadata": {},
   "outputs": [],
   "source": [
    "from sklearn.pipeline import make_pipeline"
   ]
  },
  {
   "cell_type": "code",
   "execution_count": 92,
   "id": "f53a1923-9b3e-4c11-a148-147a9df4e426",
   "metadata": {},
   "outputs": [],
   "source": [
    "pipe_lr = make_pipeline(StandardScaler(),\n",
    "                       PCA(n_components=2),\n",
    "                       LogisticRegression(penalty='l2', max_iter=10000))"
   ]
  },
  {
   "cell_type": "markdown",
   "id": "39c1a181-410e-4d82-999f-8a1e1bafd667",
   "metadata": {},
   "source": [
    "**Stratified K Fold cross validation**"
   ]
  },
  {
   "cell_type": "code",
   "execution_count": 30,
   "id": "9253ed2f-419b-4fa0-b5ba-3b29eb18a238",
   "metadata": {},
   "outputs": [],
   "source": [
    "from sklearn.model_selection import StratifiedKFold"
   ]
  },
  {
   "cell_type": "code",
   "execution_count": 31,
   "id": "c81334df-82fa-4329-b725-7ce3dc5e307a",
   "metadata": {},
   "outputs": [],
   "source": [
    "skf = StratifiedKFold(n_splits=10)"
   ]
  },
  {
   "cell_type": "markdown",
   "id": "f96d9629-873f-4619-8e49-b8c9de0c2cd8",
   "metadata": {},
   "source": [
    "**Cross val score**"
   ]
  },
  {
   "cell_type": "code",
   "execution_count": 32,
   "id": "680b8d47-f8e1-4341-950b-210dee19f311",
   "metadata": {},
   "outputs": [],
   "source": [
    "from sklearn.model_selection import cross_val_score"
   ]
  },
  {
   "cell_type": "code",
   "execution_count": 38,
   "id": "f22d26da-09c0-4d92-a836-e169df1cf315",
   "metadata": {},
   "outputs": [],
   "source": [
    "scores = cross_val_score(\n",
    "    pipe_lr,\n",
    "    X_train, y_train,\n",
    "    cv=skf\n",
    ")"
   ]
  },
  {
   "cell_type": "code",
   "execution_count": 36,
   "id": "2a4f8c24-6892-43ba-a5d4-3e4c540dd3f5",
   "metadata": {},
   "outputs": [
    {
     "data": {
      "text/plain": [
       "0.9543546365914788"
      ]
     },
     "execution_count": 36,
     "metadata": {},
     "output_type": "execute_result"
    }
   ],
   "source": [
    "scores.mean()"
   ]
  },
  {
   "cell_type": "markdown",
   "id": "164a68c8-cc62-4b0f-9499-d0d26acd57eb",
   "metadata": {},
   "source": [
    "**learning curve**"
   ]
  },
  {
   "cell_type": "code",
   "execution_count": 37,
   "id": "73d4a4c0-1c61-437b-bd65-d48dd28c57fe",
   "metadata": {},
   "outputs": [],
   "source": [
    "from sklearn.model_selection import learning_curve"
   ]
  },
  {
   "cell_type": "code",
   "execution_count": 81,
   "id": "08007a17-587f-48fa-afdf-ce9cd0891fe6",
   "metadata": {},
   "outputs": [],
   "source": [
    "train_sizes, train_scores, test_scores = learning_curve(\n",
    "    estimator=pipe_lr,\n",
    "    X=X_train, \n",
    "    y=y_train,\n",
    "    cv=skf,\n",
    "    train_sizes=np.linspace(.1, 1, 10)\n",
    ")"
   ]
  },
  {
   "cell_type": "code",
   "execution_count": 82,
   "id": "0efe4730-851d-4d56-93f8-e00754646174",
   "metadata": {},
   "outputs": [],
   "source": [
    "train_mean = np.mean(train_scores, axis=1)\n",
    "train_std = np.std(train_scores, axis=1)\n",
    "test_mean = np.mean(test_scores, axis=1)\n",
    "test_std = np.std(test_scores, axis=1)"
   ]
  },
  {
   "cell_type": "markdown",
   "id": "482c71ab-e467-4024-a110-cb448bb42023",
   "metadata": {},
   "source": [
    "visualize"
   ]
  },
  {
   "cell_type": "code",
   "execution_count": 83,
   "id": "c20d4b03-d044-45b1-a41b-afd9eeedeaa6",
   "metadata": {},
   "outputs": [],
   "source": [
    "from matplotlib import pyplot as plt"
   ]
  },
  {
   "cell_type": "code",
   "execution_count": 84,
   "id": "91aba93f-c7c3-4a0f-b1df-cd1fac9df233",
   "metadata": {},
   "outputs": [
    {
     "data": {
      "text/plain": [
       "(0.5, 1.05)"
      ]
     },
     "execution_count": 84,
     "metadata": {},
     "output_type": "execute_result"
    },
    {
     "data": {
      "image/png": "[encoded data removed]",
      "text/plain": [
       "<Figure size 640x480 with 1 Axes>"
      ]
     },
     "metadata": {},
     "output_type": "display_data"
    }
   ],
   "source": [
    "plt.plot(train_sizes, \n",
    "         train_mean,\n",
    "        marker='o', \n",
    "        color='blue',\n",
    "        label='learning curve')\n",
    "plt.fill_between(train_sizes, \n",
    "                train_mean+train_std,\n",
    "                train_mean-train_std,\n",
    "                color='blue',\n",
    "                alpha=.1)\n",
    "\n",
    "plt.plot(train_sizes, \n",
    "         test_mean,\n",
    "        marker='o', \n",
    "        color='green',\n",
    "        label='learning curve')\n",
    "plt.fill_between(train_sizes, \n",
    "                test_mean+test_std,\n",
    "                test_mean-test_std,\n",
    "                color='green',\n",
    "                alpha=.1)\n",
    "\n",
    "plt.ylim(.5, 1.05)"
   ]
  },
  {
   "cell_type": "markdown",
   "id": "20381b7b-3a23-413d-b3b4-a67c26de2b37",
   "metadata": {},
   "source": [
    "**validation curve**"
   ]
  },
  {
   "cell_type": "code",
   "execution_count": 93,
   "id": "17c1d992-f1d4-43a6-a9d9-c8e61d936d36",
   "metadata": {},
   "outputs": [],
   "source": [
    "from sklearn.model_selection import validation_curve"
   ]
  },
  {
   "cell_type": "code",
   "execution_count": 94,
   "id": "71711c81-f162-478e-8980-8dc2e7cbd5f3",
   "metadata": {},
   "outputs": [],
   "source": [
    "param_range = [10**(i) for i in range(-4, 4)]"
   ]
  },
  {
   "cell_type": "code",
   "execution_count": 95,
   "id": "97b07081-8bd2-4548-8991-4bf5316fbe38",
   "metadata": {},
   "outputs": [],
   "source": [
    "train_scores, test_scores = validation_curve(\n",
    "    estimator=pipe_lr,\n",
    "    X=X_train,\n",
    "    y=y_train,\n",
    "    cv=skf,\n",
    "    param_name='logisticregression__C',\n",
    "    param_range=param_range\n",
    ")"
   ]
  },
  {
   "cell_type": "code",
   "execution_count": 96,
   "id": "4b881e7e-c178-4573-a577-e169bbb74c07",
   "metadata": {},
   "outputs": [],
   "source": [
    "train_mean = np.mean(train_scores, axis=1)\n",
    "train_std = np.std(train_scores, axis=1)\n",
    "test_mean = np.mean(test_scores, axis=1)\n",
    "test_std = np.std(test_scores, axis=1)"
   ]
  },
  {
   "cell_type": "code",
   "execution_count": 99,
   "id": "5cae700f-e266-4c37-85b0-a540b88cdcc5",
   "metadata": {},
   "outputs": [
    {
     "data": {
      "image/png": "[encoded data removed]",
      "text/plain": [
       "<Figure size 640x480 with 1 Axes>"
      ]
     },
     "metadata": {},
     "output_type": "display_data"
    }
   ],
   "source": [
    "plt.plot(param_range, \n",
    "         train_mean,\n",
    "        marker='o', \n",
    "        color='blue',\n",
    "        label='learning curve')\n",
    "plt.fill_between(param_range, \n",
    "                train_mean+train_std,\n",
    "                train_mean-train_std,\n",
    "                color='blue',\n",
    "                alpha=.1)\n",
    "\n",
    "plt.plot(param_range, \n",
    "         test_mean,\n",
    "        marker='o', \n",
    "        color='green',\n",
    "        label='learning curve')\n",
    "plt.fill_between(param_range, \n",
    "                test_mean+test_std,\n",
    "                test_mean-test_std,\n",
    "                color='green',\n",
    "                alpha=.1)\n",
    "\n",
    "plt.title('Validation curve plot for the LR hyperparameter C')\n",
    "plt.ylabel('Accuracy')\n",
    "plt.xlabel('value of C')\n",
    "plt.grid(alpha=.5)\n",
    "plt.xscale('log')\n",
    "plt.ylim(.7, 1.04)\n",
    "plt.show()"
   ]
  },
  {
   "cell_type": "markdown",
   "id": "ed001202-efa9-4a4e-9b91-9cac93d7b695",
   "metadata": {},
   "source": [
    "=> we can see that the model\n",
    "slightly underfits the data when we increase the regularization strength (small values of C). However, for large values of C, it means lowering the strength of regularization, so the model tends to slightly overfit the data?. In this case, the sweet spot appears to be between 0.01 and 0.1 of the C value."
   ]
  }
 ],
 "metadata": {
  "kernelspec": {
   "display_name": "Python 3 (ipykernel)",
   "language": "python",
   "name": "python3"
  },
  "language_info": {
   "codemirror_mode": {
    "name": "ipython",
    "version": 3
   },
   "file_extension": ".py",
   "mimetype": "text/x-python",
   "name": "python",
   "nbconvert_exporter": "python",
   "pygments_lexer": "ipython3",
   "version": "3.10.12"
  }
 },
 "nbformat": 4,
 "nbformat_minor": 5
}
